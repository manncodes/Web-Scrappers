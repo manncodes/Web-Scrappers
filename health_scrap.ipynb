{
  "nbformat": 4,
  "nbformat_minor": 0,
  "metadata": {
    "kernelspec": {
      "display_name": "Python 3",
      "language": "python",
      "name": "python3"
    },
    "language_info": {
      "codemirror_mode": {
        "name": "ipython",
        "version": 3
      },
      "file_extension": ".py",
      "mimetype": "text/x-python",
      "name": "python",
      "nbconvert_exporter": "python",
      "pygments_lexer": "ipython3",
      "version": "3.7.4"
    },
    "colab": {
      "name": "health_scrap.ipynb",
      "provenance": [],
      "collapsed_sections": []
    }
  },
  "cells": [
    {
      "cell_type": "code",
      "metadata": {
        "id": "rigV2sKutckB",
        "colab_type": "code",
        "outputId": "7108ab9d-110e-43b5-8a04-ca4d3a0b013c",
        "colab": {
          "base_uri": "https://localhost:8080/",
          "height": 118
        }
      },
      "source": [
        "#!pip3 install pymongo[srv]"
      ],
      "execution_count": 0,
      "outputs": [
        {
          "output_type": "stream",
          "text": [
            "Requirement already satisfied: pymongo[srv] in /usr/local/lib/python3.6/dist-packages (3.10.1)\n",
            "Collecting dnspython<2.0.0,>=1.16.0; extra == \"srv\"\n",
            "\u001b[?25l  Downloading https://files.pythonhosted.org/packages/ec/d3/3aa0e7213ef72b8585747aa0e271a9523e713813b9a20177ebe1e939deb0/dnspython-1.16.0-py2.py3-none-any.whl (188kB)\n",
            "\u001b[K     |████████████████████████████████| 194kB 2.8MB/s \n",
            "\u001b[?25hInstalling collected packages: dnspython\n",
            "Successfully installed dnspython-1.16.0\n"
          ],
          "name": "stdout"
        }
      ]
    },
    {
      "cell_type": "code",
      "metadata": {
        "id": "8fWQsXevs6iB",
        "colab_type": "code",
        "colab": {}
      },
      "source": [
        "import pandas as pd\n",
        "import requests\n",
        "from bs4 import BeautifulSoup\n",
        "import pymongo\n",
        "import re"
      ],
      "execution_count": 0,
      "outputs": []
    },
    {
      "cell_type": "code",
      "metadata": {
        "id": "wONJPy4E-065",
        "colab_type": "code",
        "colab": {}
      },
      "source": [
        "NEWS_CATEGORY = \"health\""
      ],
      "execution_count": 0,
      "outputs": []
    },
    {
      "cell_type": "code",
      "metadata": {
        "id": "LCnN-KLfs6iG",
        "colab_type": "code",
        "colab": {}
      },
      "source": [
        "# mongo = pymongo.MongoClient(\"mongodb+srv://SPUM:<password>@myhealthcard-1nsmr.mongodb.net/Health?w=majority&retryWrites=true\")\n",
        "# newspaper_data = mongo.Health.News"
      ],
      "execution_count": 0,
      "outputs": []
    },
    {
      "cell_type": "code",
      "metadata": {
        "id": "Qzf0VnMvXVrz",
        "colab_type": "code",
        "colab": {}
      },
      "source": [
        "FATHER_URL = \"https://health.economictimes.indiatimes.com/rss\""
      ],
      "execution_count": 0,
      "outputs": []
    },
    {
      "cell_type": "code",
      "metadata": {
        "id": "hlXCzGRKV1Uu",
        "colab_type": "code",
        "colab": {}
      },
      "source": [
        "#url=\"https://rss.medicalnewstoday.com/featurednews.xml\"\n",
        "#url=\"https://health.economictimes.indiatimes.com/rss/topstories\"\n",
        "url=\"https://health.economictimes.indiatimes.com/rss/recentstories\""
      ],
      "execution_count": 0,
      "outputs": []
    },
    {
      "cell_type": "code",
      "metadata": {
        "id": "mabDFGRLI-z4",
        "colab_type": "code",
        "colab": {}
      },
      "source": [
        "output = pd.DataFrame()"
      ],
      "execution_count": 0,
      "outputs": []
    },
    {
      "cell_type": "code",
      "metadata": {
        "colab_type": "code",
        "outputId": "db4c17e5-093a-4231-b2d8-cc990f8da26e",
        "id": "Mfe_rwL-XRNN",
        "colab": {
          "base_uri": "https://localhost:8080/",
          "height": 302
        }
      },
      "source": [
        "r = requests.get(url) \n",
        "soup = BeautifulSoup(r.content, 'html5lib') \n",
        "#print(soup.prettify()) \n",
        "\n",
        "items = soup.findAll(\"item\")\n",
        "print(\"--------------------SCRAPPING--------------------\")\n",
        "for item in items:\n",
        "  title = item.find(\"title\").text\n",
        "  if(url==\"https://rss.medicalnewstoday.com/featurednews.xml\"):\n",
        "    title=title.replace(\"Medical News Today: \",\"\")\n",
        "  else:\n",
        "    title=title.replace(\"<![CDATA[\",\"\")\n",
        "    title=title.replace(\"]]>\",\"\")\n",
        "  if(url==\"https://health.economictimes.indiatimes.com/rss/recentstories\"):\n",
        "    guid = \"\"\n",
        "  else:\n",
        "    guid = item.find(\"guid\").text\n",
        "  description = item.find(\"description\")\n",
        "  if(url==\"https://rss.medicalnewstoday.com/featurednews.xml\"):\n",
        "    description=str(description)\n",
        "    description=description.replace(\"Medical News Today: \",\"\")\n",
        "  else:\n",
        "    description=str(description)\n",
        "    description=description.replace(\"<description><!--[CDATA[\",\"\")\n",
        "    description=description.replace(\"]]--></description>\",\"\")\n",
        "\n",
        "  print(\"Scraped \",title)\n",
        "  newsInsert={\n",
        "      'title':title,\n",
        "      'guid':guid,\n",
        "      'description':description\n",
        "  }\n",
        "  output = output.append(newsInsert, ignore_index=True)\n",
        "  # print(title)\n",
        "  # newspaper_data.insert_one(newsInsert)\n",
        "\n",
        "print(\"---------------ENDED SCRAPPING------------------\")\n"
      ],
      "execution_count": 8,
      "outputs": [
        {
          "output_type": "stream",
          "text": [
            "--------------------SCRAPPING--------------------\n",
            "Scraped  ORGAN India hosts 'Fourth Collaborative Conclave' for organ donation\n",
            "Scraped  Automation in Hospitals: Costs, Risks & Rewards\n",
            "Scraped  Rising maternal and infant mortality rates distressing, says academic\n",
            "Scraped  Coronavirus enters unknown phase, fear spikes after new US case\n",
            "Scraped  Govt completes molecular mapping of active pharma ingredients\n",
            "Scraped  ESI scam: ACB conducts raids in Gudivada government hospital in Krishna district\n",
            "Scraped  Netherlands confirms first case of coronavirus\n",
            "Scraped  U.S. regulator announces first shortage of drug related to coronavirus\n",
            "Scraped  Hong Kong finds coronavirus in pet dog samples, unclear if infected\n",
            "Scraped  Act on bogus institutes offering unrecognized med courses: HC\n",
            "Scraped  Biohaven drug wins U.S. FDA approval for use in relieving migraine headaches\n",
            "Scraped  New Zealand confirms first case of coronavirus: health ministry\n",
            "Scraped  Centre must aid firms to fight coronavirus impact: Experts\n",
            "Scraped  MP government, Tatas sign MoU for healthcare\n",
            "Scraped  Mixed messages, test delays hamper U.S. coronavirus response\n",
            "---------------ENDED SCRAPPING------------------\n"
          ],
          "name": "stdout"
        }
      ]
    },
    {
      "cell_type": "code",
      "metadata": {
        "id": "w4Jq5m-XJGoz",
        "colab_type": "code",
        "colab": {}
      },
      "source": [
        "output.to_csv(\"health_news.csv\")"
      ],
      "execution_count": 0,
      "outputs": []
    }
  ]
}